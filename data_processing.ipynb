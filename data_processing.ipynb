{
 "cells": [
  {
   "cell_type": "code",
   "execution_count": 1,
   "metadata": {},
   "outputs": [],
   "source": [
    "import numpy as np # linear algebra\n",
    "import pandas as pd # data processing, CSV file I/O (e.g. pd.read_csv)\n",
    "import matplotlib.pyplot as plt\n",
    "from sklearn.feature_extraction.text import CountVectorizer\n",
    "from sklearn.model_selection import train_test_split\n",
    "from sklearn.linear_model import LogisticRegression\n",
    "from sklearn.preprocessing import LabelEncoder\n",
    "from sklearn.preprocessing import OneHotEncoder\n",
    "from sklearn.model_selection import RandomizedSearchCV\n",
    "\n",
    "from keras.models import Sequential\n",
    "from keras import layers\n",
    "from keras.preprocessing.text import Tokenizer\n",
    "from keras.preprocessing.sequence import pad_sequences\n",
    "from keras.wrappers.scikit_learn import KerasClassifier\n",
    "from tensorflow.keras.layers.experimental.preprocessing import TextVectorization\n",
    "from sklearn.feature_extraction.text import TfidfVectorizer\n",
    "from sklearn.feature_extraction.text import CountVectorizer\n",
    "from nltk.stem import PorterStemmer\n",
    "import re\n",
    "import os\n"
   ]
  },
  {
   "cell_type": "code",
   "execution_count": 2,
   "metadata": {},
   "outputs": [
    {
     "name": "stderr",
     "output_type": "stream",
     "text": [
      "/Users/lizmclaughlin/opt/anaconda3/lib/python3.7/site-packages/sklearn/feature_extraction/text.py:385: UserWarning: Your stop_words may be inconsistent with your preprocessing. Tokenizing the stop words generated tokens ['abov', 'afterward', 'alon', 'alreadi', 'alway', 'ani', 'anoth', 'anyon', 'anyth', 'anywher', 'becam', 'becaus', 'becom', 'befor', 'besid', 'cri', 'describ', 'dure', 'els', 'elsewher', 'empti', 'everi', 'everyon', 'everyth', 'everywher', 'fifti', 'formerli', 'forti', 'ha', 'henc', 'hereaft', 'herebi', 'hi', 'howev', 'hundr', 'inde', 'latterli', 'mani', 'meanwhil', 'moreov', 'mostli', 'nobodi', 'noon', 'noth', 'nowher', 'onc', 'onli', 'otherwis', 'ourselv', 'perhap', 'pleas', 'seriou', 'sever', 'sinc', 'sincer', 'sixti', 'someon', 'someth', 'sometim', 'somewher', 'themselv', 'thenc', 'thereaft', 'therebi', 'therefor', 'thi', 'thu', 'togeth', 'twelv', 'twenti', 'veri', 'wa', 'whatev', 'whenc', 'whenev', 'wherea', 'whereaft', 'wherebi', 'wherev', 'whi', 'yourselv'] not in stop_words.\n",
      "  'stop_words.' % sorted(inconsistent))\n"
     ]
    }
   ],
   "source": [
    "url = 'https://www.kaggle.com/datasnaek/mbti-type?select=mbti_1.csv'\n",
    "\n",
    "#read file into pandas, and extract text data from targets\n",
    "df = pd.read_csv('mbti_1.csv', names=['type', 'posts'])\n",
    "posts = df['posts'].values[1:]\n",
    "targets = df['type'].values[1:]\n",
    "\n",
    "def stemming_tokenizer(str_input):\n",
    "    \n",
    "    '''stems words'''\n",
    "    \n",
    "    words = re.sub(r\"[^A-Za-z\\-]\", \" \", str_input).lower().split()\n",
    "    words = [porter_stemmer.stem(word) for word in words]\n",
    "    return words\n",
    "\n",
    "\n",
    "###----------------------------------###\n",
    "porter_stemmer = PorterStemmer()\n",
    "\n",
    "### 500 features ###\n",
    "# TFIDF vectorizer object - set to remove stop words, stem words, remove digits, turn to lowercase\n",
    "vec = TfidfVectorizer(stop_words='english', \n",
    "                      tokenizer=stemming_tokenizer,\n",
    "                      max_features=500, # only take 500 highest frequency terms\n",
    "                      token_pattern=r'\\<[a-zA-Z]+\\>',\n",
    "                      use_idf=False)\n",
    "\n",
    "vectorized_posts = vec.fit_transform(posts.astype('U'))\n",
    "vectorized_posts=vectorized_posts.toarray()\n",
    "np.savetxt('vectorized_posts3', vectorized_posts, delimiter=',')\n",
    "\n",
    "### 500 features ###\n",
    "vec = TfidfVectorizer(stop_words='english', \n",
    "                      tokenizer=stemming_tokenizer,\n",
    "                      max_features=1000, # take 1000 highest frequency terms\n",
    "                      token_pattern=r'\\<[a-zA-Z]+\\>',\n",
    "                      use_idf=False)\n",
    "\n",
    "vectorized_posts = vec.fit_transform(posts.astype('U'))\n",
    "vectorized_posts=vectorized_posts.toarray()\n",
    "np.savetxt('vectorizedPosts_largeSet', vectorized_posts, delimiter=',')\n",
    "\n"
   ]
  }
 ],
 "metadata": {
  "kernelspec": {
   "display_name": "Python 3",
   "language": "python",
   "name": "python3"
  },
  "language_info": {
   "codemirror_mode": {
    "name": "ipython",
    "version": 3
   },
   "file_extension": ".py",
   "mimetype": "text/x-python",
   "name": "python",
   "nbconvert_exporter": "python",
   "pygments_lexer": "ipython3",
   "version": "3.7.6"
  }
 },
 "nbformat": 4,
 "nbformat_minor": 4
}
