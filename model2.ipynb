{
 "cells": [
  {
   "cell_type": "code",
   "execution_count": 1,
   "metadata": {},
   "outputs": [],
   "source": [
    "import numpy as np # linear algebra\n",
    "import pandas as pd # data processing, CSV file I/O (e.g. pd.read_csv)\n",
    "import matplotlib.pyplot as plt\n",
    "from sklearn.feature_extraction.text import CountVectorizer\n",
    "from sklearn.model_selection import train_test_split\n",
    "from sklearn.linear_model import LogisticRegression\n",
    "from sklearn.preprocessing import LabelEncoder\n",
    "from sklearn.preprocessing import OneHotEncoder\n",
    "from sklearn.model_selection import RandomizedSearchCV\n",
    "import tensorflow as tf\n",
    "import keras\n",
    "from keras.models import Sequential\n",
    "from keras import layers\n",
    "from keras.preprocessing.text import Tokenizer\n",
    "from keras.preprocessing.sequence import pad_sequences\n",
    "from keras.wrappers.scikit_learn import KerasClassifier\n",
    "from tensorflow.keras.layers.experimental.preprocessing import TextVectorization\n",
    "from keras.utils import to_categorical\n",
    "from keras.backend import clear_session\n",
    "from keras.layers import Dense\n",
    "from keras.preprocessing.text import one_hot\n",
    "import os\n"
   ]
  },
  {
   "cell_type": "code",
   "execution_count": 2,
   "metadata": {},
   "outputs": [
    {
     "name": "stdout",
     "output_type": "stream",
     "text": [
      "Small Set:  (8675, 500)\n",
      "Large Set:  (8675, 1000)\n"
     ]
    }
   ],
   "source": [
    "### GET / FORMAT TARGET DATA ##########################################\n",
    "\n",
    "# small set = 1000features / large set = 500features\n",
    "posts_smallSet = np.array(pd.read_csv('vectorized_posts3', header=None))\n",
    "posts_largeSet = np.array(pd.read_csv('vectorizedPosts_largeSet', header=None))\n",
    "\n",
    "# get targets\n",
    "df = pd.read_csv('mbti_1.csv', names=['type', 'posts'])\n",
    "targets = np.array(df['type'].values[1:])\n",
    "\n",
    "# convert classes to integer - 16 classes\n",
    "targets[targets == 'ENFJ'] = 0\n",
    "targets[targets == 'ENFP'] = 1\n",
    "targets[targets == 'ENTJ'] = 2\n",
    "targets[targets == 'ENTP'] = 3\n",
    "targets[targets == 'ESFJ'] = 4\n",
    "targets[targets == 'ESFP'] = 5\n",
    "targets[targets == 'ESTJ'] = 6\n",
    "targets[targets == 'ESTP'] = 7\n",
    "targets[targets == 'INFJ'] = 8\n",
    "targets[targets == 'INFP'] = 9\n",
    "targets[targets == 'INTJ'] = 10\n",
    "targets[targets == 'INTP'] = 11\n",
    "targets[targets == 'ISFJ'] = 12\n",
    "targets[targets == 'ISFP'] = 13\n",
    "targets[targets == 'ISTJ'] = 14\n",
    "targets[targets == 'ISTP'] = 15\n",
    "\n",
    "print(\"Small Set: \",np.shape(posts_smallSet))\n",
    "print(\"Large Set: \",np.shape(posts_largeSet))"
   ]
  },
  {
   "cell_type": "code",
   "execution_count": 10,
   "metadata": {},
   "outputs": [],
   "source": [
    "### FUNCTIONS ##########################################\n",
    "\n",
    "\n",
    "def visualize(epochs, history):\n",
    "    \n",
    "    #Visualize epoch V J\n",
    "    epoch=np.linspace(1,epochs,num=epochs)\n",
    "\n",
    "    print(\"epoch vs J ->\")\n",
    "    fig, axes = plt.subplots()\n",
    "    axes.plot(epoch, history)\n",
    "    axes.set_xlabel('epoch')\n",
    "    axes.set_ylabel('J')\n",
    "    plt.show()\n",
    "    \n",
    "def format_split_data(file, targets):\n",
    "    \n",
    "    #split into train/test - 70/30% - shuffles data prior to split\n",
    "    train, test, y_train, y_test = train_test_split(file, targets, train_size=0.7, test_size=0.3, random_state=1000)\n",
    "    print(\"Train x / y: \", train.shape, y_train.shape)\n",
    "    print(\"Test x / y: \", test.shape, y_test.shape)\n",
    "\n",
    "    #convert to one-hot target encoding\n",
    "    y_train = to_categorical(y_train)\n",
    "    y_test = to_categorical(y_test)\n",
    "    \n",
    "    return train, test, y_train, y_test\n",
    "\n",
    "def build_model(size):\n",
    "    \n",
    "    inputs = keras.Input(shape=(size,)) #num features\n",
    "    x = tf.keras.layers.Dense(4, activation=tf.nn.relu)(inputs)\n",
    "    outputs = tf.keras.layers.Dense(16, activation=tf.nn.softmax)(x)\n",
    "    model = tf.keras.Model(inputs=inputs, outputs=outputs) #create model\n",
    "    model.compile(optimizer=\"sgd\", loss=tf.keras.losses.CategoricalCrossentropy())\n",
    "    model.summary()\n",
    "    \n",
    "    return model\n",
    "\n",
    "def fit_model(x, y, e):\n",
    "\n",
    "    history = model.fit(train, y_train, epochs=e, verbose=0)\n",
    "    h = np.array(history.history['loss']) # history of loss @ ea epoch -> np array\n",
    "    \n",
    "    visualize(e, h) #chart J v epoch\n",
    "    \n",
    "    return h\n",
    "\n",
    "def predict(test, y):\n",
    "    #Generate class predictions & accuracy for the input samples\n",
    "    yhat = model.predict(test, verbose=1)\n",
    "    m = tf.keras.metrics.CategoricalAccuracy()\n",
    "    m.update_state(y, yhat, sample_weight=None)\n",
    "    \n",
    "    return m.result().numpy()\n",
    "    "
   ]
  },
  {
   "cell_type": "code",
   "execution_count": 7,
   "metadata": {},
   "outputs": [
    {
     "name": "stdout",
     "output_type": "stream",
     "text": [
      "Train x / y:  (6072, 500) (6072,)\n",
      "Test x / y:  (2603, 500) (2603,)\n",
      "Model: \"model_1\"\n",
      "_________________________________________________________________\n",
      "Layer (type)                 Output Shape              Param #   \n",
      "=================================================================\n",
      "input_2 (InputLayer)         [(None, 500)]             0         \n",
      "_________________________________________________________________\n",
      "dense_2 (Dense)              (None, 4)                 2004      \n",
      "_________________________________________________________________\n",
      "dense_3 (Dense)              (None, 16)                80        \n",
      "=================================================================\n",
      "Total params: 2,084\n",
      "Trainable params: 2,084\n",
      "Non-trainable params: 0\n",
      "_________________________________________________________________\n",
      "epoch vs J ->\n"
     ]
    },
    {
     "data": {
      "image/png": "[encoded data removed]",
      "text/plain": [
       "<Figure size 432x288 with 1 Axes>"
      ]
     },
     "metadata": {
      "needs_background": "light"
     },
     "output_type": "display_data"
    },
    {
     "name": "stdout",
     "output_type": "stream",
     "text": [
      "82/82 [==============================] - 0s 399us/step\n",
      "Accuracy 56.90%: epochs 1000 - features 500\n"
     ]
    }
   ],
   "source": [
    "### SMALL SET - 500 FEATURES - 1000 EPOCHS ##########################################\n",
    "epochs = 1000\n",
    "\n",
    " \n",
    "train, test, y_train, y_test = format_split_data(posts_smallSet, targets)\n",
    "model = build_model(train.shape[1])\n",
    "h = fit_model(train, y_train, epochs)\n",
    "result = predict(test, y_test)\n",
    "\n",
    "print(\"Accuracy {:.2%}: epochs {} - features {}\".format(result, epochs, train.shape[1]))\n",
    "clear_session() "
   ]
  },
  {
   "cell_type": "code",
   "execution_count": 8,
   "metadata": {},
   "outputs": [
    {
     "name": "stdout",
     "output_type": "stream",
     "text": [
      "Train x / y:  (6072, 500) (6072,)\n",
      "Test x / y:  (2603, 500) (2603,)\n",
      "Model: \"model\"\n",
      "_________________________________________________________________\n",
      "Layer (type)                 Output Shape              Param #   \n",
      "=================================================================\n",
      "input_1 (InputLayer)         [(None, 500)]             0         \n",
      "_________________________________________________________________\n",
      "dense (Dense)                (None, 4)                 2004      \n",
      "_________________________________________________________________\n",
      "dense_1 (Dense)              (None, 16)                80        \n",
      "=================================================================\n",
      "Total params: 2,084\n",
      "Trainable params: 2,084\n",
      "Non-trainable params: 0\n",
      "_________________________________________________________________\n",
      "epoch vs J ->\n"
     ]
    },
    {
     "data": {
      "image/png": "[encoded data removed]",
      "text/plain": [
       "<Figure size 432x288 with 1 Axes>"
      ]
     },
     "metadata": {
      "needs_background": "light"
     },
     "output_type": "display_data"
    },
    {
     "name": "stdout",
     "output_type": "stream",
     "text": [
      "82/82 [==============================] - 0s 501us/step\n",
      "Accuracy 56.55%: epochs 3000 - features 500\n"
     ]
    }
   ],
   "source": [
    "### SMALL SET - 500 FEATURES - 3000 EPOCHS ##########################################\n",
    "epochs = 3000\n",
    "\n",
    "train, test, y_train, y_test = format_split_data(posts_smallSet, targets)\n",
    "model = build_model(train.shape[1])\n",
    "h = fit_model(train, y_train, epochs)\n",
    "result = predict(test, y_test)\n",
    "\n",
    "print(\"Accuracy {:.2%}: epochs {} - features {}\".format(result, epochs, train.shape[1]))\n",
    "clear_session() "
   ]
  },
  {
   "cell_type": "code",
   "execution_count": 11,
   "metadata": {},
   "outputs": [
    {
     "name": "stdout",
     "output_type": "stream",
     "text": [
      "Train x / y:  (6072, 1000) (6072,)\n",
      "Test x / y:  (2603, 1000) (2603,)\n",
      "Model: \"model_1\"\n",
      "_________________________________________________________________\n",
      "Layer (type)                 Output Shape              Param #   \n",
      "=================================================================\n",
      "input_2 (InputLayer)         [(None, 1000)]            0         \n",
      "_________________________________________________________________\n",
      "dense_2 (Dense)              (None, 4)                 4004      \n",
      "_________________________________________________________________\n",
      "dense_3 (Dense)              (None, 16)                80        \n",
      "=================================================================\n",
      "Total params: 4,084\n",
      "Trainable params: 4,084\n",
      "Non-trainable params: 0\n",
      "_________________________________________________________________\n",
      "epoch vs J ->\n"
     ]
    },
    {
     "data": {
      "image/png": "[encoded data removed]",
      "text/plain": [
       "<Figure size 432x288 with 1 Axes>"
      ]
     },
     "metadata": {
      "needs_background": "light"
     },
     "output_type": "display_data"
    },
    {
     "name": "stdout",
     "output_type": "stream",
     "text": [
      "82/82 [==============================] - 0s 499us/step\n",
      "Accuracy 59.85%: epochs 1000 - features 1000\n"
     ]
    }
   ],
   "source": [
    "### LARGE SET - 1000 FEATURES - 1000 EPOCHS ##########################################\n",
    "epochs = 1000\n",
    "\n",
    "train, test, y_train, y_test = format_split_data(posts_largeSet, targets)\n",
    "model = build_model(train.shape[1])\n",
    "h = fit_model(train, y_train, epochs)\n",
    "result = predict(test, y_test)\n",
    "\n",
    "print(\"Accuracy {:.2%}: epochs {} - features {}\".format(result, epochs, train.shape[1]))\n",
    "clear_session() "
   ]
  },
  {
   "cell_type": "code",
   "execution_count": null,
   "metadata": {},
   "outputs": [
    {
     "name": "stdout",
     "output_type": "stream",
     "text": [
      "Train x / y:  (6072, 1000) (6072,)\n",
      "Test x / y:  (2603, 1000) (2603,)\n",
      "Model: \"model\"\n",
      "_________________________________________________________________\n",
      "Layer (type)                 Output Shape              Param #   \n",
      "=================================================================\n",
      "input_1 (InputLayer)         [(None, 1000)]            0         \n",
      "_________________________________________________________________\n",
      "dense (Dense)                (None, 4)                 4004      \n",
      "_________________________________________________________________\n",
      "dense_1 (Dense)              (None, 16)                80        \n",
      "=================================================================\n",
      "Total params: 4,084\n",
      "Trainable params: 4,084\n",
      "Non-trainable params: 0\n",
      "_________________________________________________________________\n"
     ]
    }
   ],
   "source": [
    "### LARGE SET - 1000 FEATURES - 3000 EPOCHS ##########################################\n",
    "epochs = 3000\n",
    "\n",
    "train, test, y_train, y_test = format_split_data(posts_largeSet, targets)\n",
    "model = build_model(train.shape[1])\n",
    "h = fit_model(train, y_train, epochs)\n",
    "result = predict(test, y_test)\n",
    "\n",
    "print(\"Accuracy {:.2%}: epochs {} - features {}\".format(result, epochs, train.shape[1]))\n",
    "clear_session() "
   ]
  }
 ],
 "metadata": {
  "kernelspec": {
   "display_name": "Python 3",
   "language": "python",
   "name": "python3"
  },
  "language_info": {
   "codemirror_mode": {
    "name": "ipython",
    "version": 3
   },
   "file_extension": ".py",
   "mimetype": "text/x-python",
   "name": "python",
   "nbconvert_exporter": "python",
   "pygments_lexer": "ipython3",
   "version": "3.7.6"
  }
 },
 "nbformat": 4,
 "nbformat_minor": 4
}
